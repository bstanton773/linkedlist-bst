{
 "cells": [
  {
   "cell_type": "markdown",
   "metadata": {},
   "source": [
    "Task:\n",
    "Given a list of integers, determine whether the sum of its elements is odd or even. <br>\n",
    "Give your answer as a string matching \"odd\" or \"even\". <br>\n",
    "If the input array is empty consider it as: [0] (array with a zero). <br>\n",
    "Examples: <br>\n",
    "Input: [0] <br>\n",
    "Output: \"even\" <br>\n",
    "Input: [0, 1, 4] <br>\n",
    "Output: \"odd\" <br>\n",
    "Input: [0, -1, -5] <br>\n",
    "Output: \"even\""
   ]
  },
  {
   "cell_type": "code",
   "execution_count": 4,
   "metadata": {},
   "outputs": [
    {
     "data": {
      "text/plain": [
       "'even'"
      ]
     },
     "execution_count": 4,
     "metadata": {},
     "output_type": "execute_result"
    }
   ],
   "source": [
    "def odd_or_even(alist):\n",
    "    return 'even' if sum(alist) % 2 == 0 else 'odd'\n",
    "\n",
    "odd_or_even([0,-1,-5])"
   ]
  },
  {
   "cell_type": "code",
   "execution_count": null,
   "metadata": {},
   "outputs": [],
   "source": []
  }
 ],
 "metadata": {
  "kernelspec": {
   "display_name": "Python 3",
   "language": "python",
   "name": "python3"
  },
  "language_info": {
   "codemirror_mode": {
    "name": "ipython",
    "version": 3
   },
   "file_extension": ".py",
   "mimetype": "text/x-python",
   "name": "python",
   "nbconvert_exporter": "python",
   "pygments_lexer": "ipython3",
   "version": "3.8.5"
  }
 },
 "nbformat": 4,
 "nbformat_minor": 4
}
